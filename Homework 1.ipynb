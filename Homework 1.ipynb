{
 "cells": [
  {
   "cell_type": "markdown",
   "id": "4c377860",
   "metadata": {},
   "source": [
    "## Homework 1 - Data Preparation"
   ]
  },
  {
   "cell_type": "markdown",
   "id": "fa361016",
   "metadata": {},
   "source": [
    "### **Instructions**: The data file for this homework is LaptopSalesJanuary2008.csv, which can be downloaded from Blackboard.  Create a new jyputer notebook and save it as HW1AnsX_Y (where X is your team number and Y is your last name).  Where required, write your answers/paste screenshots into this Word document.  Your response should not exceed 100 words for each below question.  \n",
    "\n",
    "### Write every member’s full name and participation on the first cell of the notebook as follows. \n",
    "### Due Dates\n",
    "### - Indidivaul work - **Feb. 8, 2024**\n",
    "### - Group submission - **Feb. 10, 2024**\n",
    "|Participant |Posted Date |Completeness|Qualify     |Contribution%|Justification |\n",
    "|----------- |------------|------------|------------|-------------|--------------|\n",
    "|Member1Name |------------|------------|------------|-------------|--------------|\n",
    "|----------- |------------|------------|------------|-------------|--------------|\n",
    "|Member2Name |------------|------------|------------|-------------|--------------|\n",
    "|----------- |------------|------------|------------|-------------|--------------|\n",
    "|Member3Name |------------|------------|------------|-------------|--------------|\n",
    "|----------- |------------|------------|------------|-------------|--------------|\n",
    "|Member4Name |------------|------------|------------|-------------|--------------|\n",
    "|----------- |------------|------------|------------|-------------|--------------|\n",
    "|Member5Name |------------|------------|------------|-------------|--------------|\n",
    "|----------- |------------|------------|------------|-------------|--------------|\n",
    "|Member6Name |------------|------------|------------|-------------|--------------|\t\n",
    "|----------- |------------|------------|------------|-------------|--------------|\t\n",
    "\n",
    "### Each member needs to submit the completed homework in the Python notebook and post it to the Group Discussion Forum by assigned date in order to receive credits.  \n",
    "### Each group only submits one Python notebook to the assignment link by the assigned date.  The notebook should have consent from the majority of the members.\n",
    "\n",
    "### The data set contains data for all sales of laptops at a computer chain in London in January 2008. This subset of the full dataset includes data for the entire year. \n",
    "\n",
    "### Methods for exploring data include looking at various data aggregations and summaries, both numerically and graphically.  This includes looking at each variable separately as well as looking at relationships between variables.  The purpose is to discover patterns and exceptions. For numerical variables, histograms and box plots can be used to learn about the distributions of their value, detect outliers, and find other information relevant to the analysis task.  Similarly, for categorical variables, we can use bar charts.  Scatter plots of pairs of numerical variables can be used to learn about possible relationships and the type of relationship and to detect outliers.  Also, to scatter matrix plots, we can use correlation tables to identify the possible relationship between the variables. \n",
    "\n",
    "## Tasks\n",
    "### Task A. Load the data and check if the data is loaded correctly by listing the number of records and attributes and displaying some records. Next, check the structure and information of the dataset, including the index, dtypes, columns, nonnull value, and memory usage.  Which variables are numerical?  Which are binary? Which are ordinal? Which are nominal?"
   ]
  },
  {
   "cell_type": "code",
   "execution_count": null,
   "id": "a8fc8209",
   "metadata": {},
   "outputs": [],
   "source": [
    "import pandas as pd\n",
    "\n",
    "ltops_df = pd.read_csv('LaptopSalesJanuary2008.csv')\n",
    "\n",
    "ltops_df\n",
    "\n",
    "print(ltops_df.index)\n",
    "\n",
    "print(ltops_df.dtypes)\n",
    "\n",
    "print(ltops_df.columns)\n",
    "\n",
    "## checking not null and memory usage \n",
    "\n",
    "ltops_df.notnull\n",
    "\n",
    "ltops_df.memory_usage()"
   ]
  },
  {
   "cell_type": "markdown",
   "id": "066d466d",
   "metadata": {},
   "source": [
    "### Task B. Change the variable names to be more suitable for analysis by following programming naming conventions, such as snake_case, camelCase, etc. "
   ]
  },
  {
   "cell_type": "code",
   "execution_count": null,
   "id": "f69b26bb",
   "metadata": {},
   "outputs": [],
   "source": [
    "ltops_df.colums = [s.strip().replace('','_') for s in ltops_df.columns]\n",
    "ltops_df.head()"
   ]
  },
  {
   "cell_type": "markdown",
   "id": "5d971a2d",
   "metadata": {},
   "source": [
    "### Task C.  To get a quick understanding of the distribution of the data.  Plot a histogram for each of the quantitative variables.  Based on the histogram and summary statistics, answer the following questions:\n",
    "#### a)\tWhich variable has the largest variability?\n",
    "#### b)\tWhich variables seem skewed?\n",
    "#### c)\tAre there any values that seem extreme (outliers)?"
   ]
  },
  {
   "cell_type": "code",
   "execution_count": null,
   "id": "56f9d69d",
   "metadata": {},
   "outputs": [],
   "source": [
    "\n",
    "\n",
    "\n"
   ]
  },
  {
   "cell_type": "markdown",
   "id": "f3b3477b",
   "metadata": {},
   "source": [
    "### Task D. Compute the correlation table for the quantitative variable and generate a scatter plot matrix for these variables.\n",
    "- #### Which pair of variables are most strongly correlated?\n",
    "- #### How can we reduce the number of variables based on these correlations?\n",
    "- #### How would the correlations change if we normalized the data first?\n"
   ]
  },
  {
   "cell_type": "code",
   "execution_count": null,
   "id": "c05f86ce",
   "metadata": {},
   "outputs": [],
   "source": [
    "import seaborn\n",
    "nunerical_variables = laptopSalesJan. select_dtypes(includes =['int64', 'float64']).colunns.tolist()\n",
    "lsjv2 = laptopSalesJan.drepna()\n",
    "\n",
    "print(lsjv2[nunerical_variables].corr)\n",
    "\n",
    "plt.figuro(figgizes(12, 20))\n",
    "\n",
    "for i, v1 in enunerate(numerical_variables):\n",
    "    for j, v2 in emumerate(numerical_variables) :\n",
    "        if i < j :\n",
    "            pit. subplot(len(nunerical_variables) // 2, 2, j + 1 )\n",
    "            seaborn.scatterplot(x=v1, y=v2, data=lsjv2 )\n",
    "            plt.title(f'(v1) vs (v2)')\n",
    "\n",
    "\n",
    "plt.tight_layout()\n",
    "plt.show()"
   ]
  },
  {
   "cell_type": "markdown",
   "id": "3842ed75",
   "metadata": {},
   "source": [
    "### Task E.  Explore the relationship between the numerical variables by using a scatter plot matrix.  What does this plot show us? Present your insights within 100 words"
   ]
  },
  {
   "cell_type": "code",
   "execution_count": null,
   "id": "dbd1f33f",
   "metadata": {},
   "outputs": [],
   "source": []
  },
  {
   "cell_type": "markdown",
   "id": "b2b4acb6",
   "metadata": {},
   "source": [
    "### Task F. Create a bar chart, showing the average retail price by store. Which store has the highest average? Which has the lowest?"
   ]
  },
  {
   "cell_type": "code",
   "execution_count": null,
   "id": "315e9b3b",
   "metadata": {},
   "outputs": [],
   "source": [
    "import pandas as pd\n",
    "import matplotlib.pyplot as plt\n",
    "\n",
    "data_df = pd.read_csv('LaptopSalesJanuary2008.csv') #to read data from file\n",
    "data_df.columns = [s.strip().replace(' ', '_') for s in data_df.columns]  # to clean column names\n",
    "average_retail_prices = data_df.groupby('Store_Postcode')['Retail_Price'].mean() # to group storecode and calculate average retail price"
   ]
  },
  {
   "cell_type": "code",
   "execution_count": null,
   "id": "7696f186",
   "metadata": {},
   "outputs": [],
   "source": [
    "plt.figure(figsize=(15, 8))\n",
    "average_retail_price_by_store.plot(kind='bar', color='b', width=0.3)\n",
    "plt.title(\"Average Retail Price by Store\")\n",
    "plt.xlabel('Stores')\n",
    "plt.ylabel('Average Retail Price')\n",
    "plt.xticks(rotation=45)  \n",
    "plt.tight_layout()  # to show full labels\n",
    "plt.show()\n"
   ]
  },
  {
   "cell_type": "markdown",
   "id": "86fb9733",
   "metadata": {},
   "source": [
    "### Task G. To better compare retail prices across stores, create side-by-side boxplots of retail price by store. Now compare the prices in the two stores from (F). Does there seem to be a difference between their price distributions?"
   ]
  },
  {
   "cell_type": "code",
   "execution_count": null,
   "id": "30676b2f",
   "metadata": {},
   "outputs": [],
   "source": []
  },
  {
   "cell_type": "markdown",
   "id": "11e062ea",
   "metadata": {},
   "source": [
    "### Task H. Describe how you would handle records with outliers.\n"
   ]
  },
  {
   "cell_type": "code",
   "execution_count": null,
   "id": "554f6a4f",
   "metadata": {},
   "outputs": [],
   "source": []
  }
 ],
 "metadata": {
  "kernelspec": {
   "display_name": "Python 3 (ipykernel)",
   "language": "python",
   "name": "python3"
  },
  "language_info": {
   "codemirror_mode": {
    "name": "ipython",
    "version": 3
   },
   "file_extension": ".py",
   "mimetype": "text/x-python",
   "name": "python",
   "nbconvert_exporter": "python",
   "pygments_lexer": "ipython3",
   "version": "3.9.12"
  }
 },
 "nbformat": 4,
 "nbformat_minor": 5
}
